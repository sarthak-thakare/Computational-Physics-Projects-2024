{
 "cells": [
  {
   "cell_type": "markdown",
   "metadata": {
    "id": "c0R8hXUD6eFn"
   },
   "source": [
    "The Hamiltonian for a system of an electron and a proton is:\n",
    "\n",
    "$$\\hat{H}_{total} = -\\frac{\\hbar^2}{2m_p}\\nabla^2_p + -\\frac{\\hbar^2}{2m_e}\\nabla^2_e + \\frac{e^2}{4 \\pi \\varepsilon_0 |\\vec{r}_1 - \\vec{r}_2|}$$"
   ]
  },
  {
   "cell_type": "markdown",
   "metadata": {
    "id": "D57hVj_c6eFq"
   },
   "source": [
    "# Eigenstates of the System\n",
    "Which we will, of course, put in the Time-Independent Schrodinger Equation:\n",
    "\n",
    "$$\\hat{H} \\Psi(\\vec{r}_1, \\vec{r}_2, t) = E \\Psi(\\vec{r}_1, \\vec{r}_2, t)\\\\\n",
    "%\\implies E_k \\Psi_k(\\vec{r}_1, \\vec{r}_2, t) = \\hat{H} \\Psi_k(\\vec{r}_1, \\vec{r}_2, t)$$\n",
    "\n",
    "However, we will simplify the situation first. The first thing you might have noticed is that for a two-particle system, the wavefunction depends on two coordinates, and this in fact extends the interpretation of $\\Psi^2$ for a one-particle system (which was just the propability amplitude for finding the particle at that particular position), to being \"the probability of finding particle 1 at $\\vec{r}_1$ and particle 2 at $\\vec{r_2}$\". This is clearly something interesting, but we'll ignore two particle wavefunctions for now and focus on converting our problem to that of a one-particle wavefunction.\n",
    "\n",
    "Another problem with two or more particles being simulated is that the Schrodinger equation just does not take spin into account, and spin is quite important for simulating multiparticle systems. We can't even simulate the hydrogen molecule $\\text{H}_2$ without spin; the Schrodinger equation - if spin is not incorporated - predicts that hydrogen molecules can't exist (!) due to the fermionic interaction between the two atomic electrons. Specifically, the second electron is stuck in the higher energy non-bonding orbital $\\sigma^\\ast_{1s}$, and thus there is minimal energy change from the free atom case."
   ]
  },
  {
   "cell_type": "markdown",
   "metadata": {
    "id": "BsGZFwI16eFq"
   },
   "source": [
    "We apply the coordinate transformation to center of mass of coordinates, upon which we get the following Hamiltonian:\n",
    "\n",
    "$$\\hat{H}_{\\text{CoM}}= -\\frac{\\hbar^2}{2\\mu}\\nabla_R^2-\\frac{\\hbar^2}{2\\mu}\\nabla_r^2 - \\frac{e^2}{4 \\pi \\varepsilon_0 |\\vec{r}|}$$\n",
    "\n",
    "Where $\\mu = \\frac{m_p m_e}{m_p + m_e}$, $\\vec{R} = \\frac{m_e \\vec{r_e} + m_p \\vec{r_p}}{m_e + m_p}$ are the CoM coordiantes, and $\\vec{r} = \\vec{r_e} - \\vec{r_p}$ is the displacement vector from one particle to the other. Either sign works. Refer to CH107 from first year for the details. Thus our Hamiltonian is separated into free-particle Hamiltonian on the COM and a one-particle Hamiltonian in a Coulombic potential. We are interested in the second part.\n",
    "\n",
    "## Question 1\n",
    "Expand the second part of the Hamiltonian, the one acting on the displacement vector $\\vec{r} = (x,y,z)$, in Cartesian coordinates."
   ]
  },
  {
   "cell_type": "markdown",
   "metadata": {},
   "source": [
    "$- \\frac{e^2}{4\\pi\\epsilon_0 \\sqrt{x^2 + y^2 + z^2}}$\n"
   ]
  },
  {
   "cell_type": "markdown",
   "metadata": {},
   "source": [
    "# solve"
   ]
  },
  {
   "cell_type": "markdown",
   "metadata": {
    "id": "BdjdXfmU6eFr"
   },
   "source": [
    "# Numerical Solution\n",
    "Here's how we are going to solve this numerically:\n",
    "\n",
    "Using the finite-difference method, we discretize the left side of the equation so that the partial derivative terms get converted into terms involving the value of $\\psi$ at a coordinate _and_ its neighoring coordinates."
   ]
  },
  {
   "cell_type": "markdown",
   "metadata": {
    "id": "CRd-fAWm6eFr"
   },
   "source": [
    "## Question 2\n",
    "Discretize the Schrodinger Equation using Cartesian coordinates. Consider a spacing between the points of $\\Delta x$ for all axes."
   ]
  },
  {
   "cell_type": "markdown",
   "metadata": {},
   "source": [
    "The discretized time-independent Schrödinger equation in Cartesian coordinates is:\n",
    "\n",
    "\n",
    "$ -\\frac{\\hbar^2}{2\\mu} \\frac{1}{\\Delta^2} \\Big( \\psi_{i+1, j, k} + \\psi_{i-1, j, k} + \\psi_{i, j+1, k} + \\psi_{i, j-1, k} + \\psi_{i, j, k+1} + \\psi_{i, j, k-1} - 6\\psi_{i, j, k} \\Big) + V_{i,j,k} \\psi_{i,j,k} = E \\psi_{i,j,k}. $"
   ]
  },
  {
   "cell_type": "markdown",
   "metadata": {},
   "source": [
    "# solve"
   ]
  },
  {
   "cell_type": "markdown",
   "metadata": {
    "id": "7DwCwrY46eFr"
   },
   "source": [
    "We can actually use this discretized form of the right hand side to compute the energy eigenstates and eigenvalues of the electron in this hydrogen atom model, which should give us the familiar orbitals of a hydrogen atom. Let's try that first!\n",
    "\n",
    "All we need to do is to construct the Hamiltonian matrix by first flattening the possible coordinates of psi and then constructing the operator matrix that gives us the left hand side of the equation. Then we use an eigensolver algorithm for the operator matrix to obtain the eigenvectors and eigenvalues."
   ]
  },
  {
   "cell_type": "markdown",
   "metadata": {
    "id": "mmO48qNDoRsz"
   },
   "source": [
    "Step 1 : Let us create the Hamiltonian operator and all the other tools we will need."
   ]
  },
  {
   "cell_type": "code",
   "execution_count": 35,
   "metadata": {
    "id": "sb18uIPR6eFs"
   },
   "outputs": [],
   "source": [
    "#importing standard data science libraries\n",
    "import numpy as np\n",
    "import pandas as pd\n",
    "import matplotlib.pyplot as plt\n",
    "from math import *"
   ]
  },
  {
   "cell_type": "markdown",
   "metadata": {
    "id": "sF3caLBBVYqJ"
   },
   "source": [
    "## Question 3: Constructing the Hamiltonian Operator\n",
    "Recall the method of converting the discretized version of the laplacian operator into a 2D matrix, and apply the same technique for the discretized version of the hamiltonian operator. Construct the hamiltonian matrix within `get_hamiltonian`. Also fill in the helper functions `index3d_to_flat`, `flat_to_index3d`, and `index3d_to_coords`."
   ]
  },
  {
   "cell_type": "code",
   "execution_count": 36,
   "metadata": {
    "id": "saMFpiWl6eFt"
   },
   "outputs": [],
   "source": [
    "import scipy.sparse as sp\n",
    "from scipy.constants import hbar, e, m_e, m_p, epsilon_0, pi\n",
    "\n",
    "#reduced mass\n",
    "mu = m_e*m_p/(m_e+m_p)\n",
    "\n",
    "N = 100\n",
    "Delta_x = 2e-9/N # our boundary width is 1e-8 m\n",
    "\n",
    "def index3d_to_flat(i,j,k):\n",
    "    '''Write a function that converts the i,j,k integer coordinates of the unflattened psi array\n",
    "       into the appropriate flattened index\n",
    "    '''\n",
    "    # Code here\n",
    "    return i * N**2 + j * N + k\n",
    "\n",
    "def flat_to_index3d(flat_index):\n",
    "    '''Now write a function to do the reverse. Remember the limits on the coords\n",
    "       i.e. 0 <= i,j,k < N. Base N if you prefer that.\n",
    "    '''\n",
    "    # Code here\n",
    "    i = flat_index // (N**2)\n",
    "    j = (flat_index % (N**2)) // N\n",
    "    k = flat_index % N\n",
    "    return (i, j, k)\n",
    "\n",
    "def index3d_to_coords(i,j,k):\n",
    "    '''Now we transform the coords to real space coordinate. Remember to incorporate\n",
    "       the scaling factor\n",
    "    '''\n",
    "    # Code here\n",
    "    return (i * Delta_x, j * Delta_x, k * Delta_x)\n",
    "\n",
    "# Define the position of the proton/central position, depends if you are taking\n",
    "# an approximation point of view or proper CoM transformation\n",
    "proton_position = index3d_to_coords((N - 1)/2.0, (N - 1)/2.0, (N - 1)/2.0)\n",
    "# Or you can remove this and implicitly assume an appropriate position below\n",
    "\n",
    "############################################################################################################################################################\n",
    "\n",
    "hamiltonian = sp.lil_matrix((N**3, N**3), dtype=np.complex128) # create a sparse matrix\n",
    "\n",
    "def get_hamiltonian(matrix, N, Delta_x):\n",
    "    T_factor = -(hbar**2)/(2*mu*(Delta_x**2))\n",
    "    V_factor = e**2/(4*pi*epsilon_0)\n",
    "    '''Initialize the matrix elements appropriately.\n",
    "       Since the matrix is going to be large, we have already taken it to be sparse.\n",
    "       No need to set any 0 elements.\n",
    "    '''\n",
    "    # Code here\n",
    "    for i in range(N):\n",
    "        for j in range(N):\n",
    "            for k in range(N):\n",
    "                # Current flat index\n",
    "                current_idx = index3d_to_flat(i, j, k)\n",
    "                \n",
    "                # Kinetic Energy: Add neighbors \n",
    "                for di, dj, dk in [(-1, 0, 0), (1, 0, 0), (0, -1, 0), (0, 1, 0), (0, 0, -1), (0, 0, 1)]:\n",
    "                    ni, nj, nk = i + di, j + dj, k + dk\n",
    "                    if 0 <= ni < N and 0 <= nj < N and 0 <= nk < N:  # Ensure the indices are within bounds\n",
    "                        neighbor_idx = index3d_to_flat(ni, nj, nk)\n",
    "                        matrix[current_idx, neighbor_idx] = T_factor\n",
    "\n",
    "                # Diagonal elements: Kinetic energy term\n",
    "                matrix[current_idx, current_idx] = -6 * T_factor\n",
    "\n",
    "                # Potential Energy: Coulomb interaction (only diagonal)\n",
    "                r_x, r_y, r_z = index3d_to_coords(i, j, k)\n",
    "                r = np.sqrt((r_x-proton_position[0])**2 + (r_y-proton_position[1])**2 + (r_z-proton_position[2])**2)\n",
    "                if r != 0:\n",
    "                    matrix[current_idx, current_idx] += -V_factor / r\n",
    "\n",
    "    return matrix\n",
    "\n",
    "hamiltonian = get_hamiltonian(hamiltonian, N, Delta_x)"
   ]
  },
  {
   "cell_type": "markdown",
   "metadata": {
    "id": "364Ds6SQZZHW"
   },
   "source": [
    "Ok, so what is the algorithm we are going to use? This is a procedure called _power iteration_.\n",
    "\n",
    "Consider the eigenvalue problem $Ax = \\lambda x$, with eigenpairs $(\\lambda_i, x_i)$. For convenience we assume that $\\lambda_1 > \\lambda_2 > \\cdots > \\lambda_n$ (or atleast their absolute values, if we have complex eigenvalues). Let us have any random vector $b = x_1 + x_2 + \\cdots + x_n$, for appropriately scaled $x_i$. Then we find that on repeat application of the matrix, $$\\begin{align}\n",
    " b^{(0)} &= b & &= \\phantom{\\lambda_1} x_1 + \\phantom{\\lambda_2} x_2 + \\cdots + \\phantom{\\lambda_n} x_n \\\\\n",
    " b^{(1)} &= Ab & &= \\lambda_1 x_1 + \\lambda_2 x_2 + \\cdots + \\lambda_n x_n \\\\\n",
    " b^{(2)} &= A^2b & &= \\lambda_1^2 x_1 + \\lambda_2^2 x_2 + \\cdots + \\lambda_n^2 x_n \\\\\n",
    " & &&\\hspace{4em} \\vdots \\\\\n",
    " b^{(k)} &= A^kb & &= \\lambda_1^k x_1 + \\lambda_2^k x_2 + \\cdots + \\lambda_n^k x_n \\\\\n",
    "\\end{align}$$\n",
    "If we consider the most dominant factor in $b^{(k)}$, we find that clearly must be $\\lambda_1^k x_1$, since $$b^{(k)} = \\lambda_1^k \\left( x_1 + \\left(\\frac{\\lambda_2}{\\lambda_1}\\right)^k x_2 + \\cdots + \\left(\\frac{\\lambda_k}{\\lambda_1}\\right)^k x_n \\right)$$\n",
    "Since each factor for the other eigenvectors have absolute values less than 1 (because $|\\lambda_1| > |\\lambda_i| \\forall i$), the multiplier trends of to 0. Note that this is a terrible way to take a limit, but it's fine for now.\n",
    "\n",
    "Thus, if we had some way, any way, to rescale and normalize $b^{(k)}$, then it would trend to the eigenvector. Hurrah, 1 eigenvector extracted! Let's implement that.\n",
    "\n",
    "Although while implementing the algortihm, you'll want to rescale $b^{(k)}$ at each step instead of just at the end. It will also make comparisions with previous iterations easier when determining convergence."
   ]
  },
  {
   "cell_type": "markdown",
   "metadata": {
    "id": "NigsZ2rMWtLL"
   },
   "source": [
    "## Question 4: Implementing the Power Iteration Algorithm\n",
    "Based on the theory provided above, implement the power iteration algorithm within the `power_iteration` function."
   ]
  },
  {
   "cell_type": "code",
   "execution_count": 37,
   "metadata": {
    "id": "OyS8DTgm1nF5"
   },
   "outputs": [],
   "source": [
    "\n",
    "\n",
    "\n",
    "import numpy as np\n",
    "\n",
    "def project_vector(v, u):\n",
    "    \"\"\"\n",
    "    Projects vector v onto vector u and returns the projection.\n",
    "    \"\"\"\n",
    "    return np.dot(v, u) * u / np.dot(u, u)\n",
    "\n",
    "def power_iteration(matrix, x_0=None, tolerance=1e-5, max_iterations=100, mu=0, excluded_space=None):\n",
    "  
    "    if excluded_space is None:\n",
    "        excluded_space = []  # Initialize excluded_space if not passed\n",
    "    \n",
    "    if x_0 is None:\n",
    "        vector = np.random.rand(matrix.shape[1])\n",
    "    else:\n",
    "        vector = np.array(x_0)\n",
    "        \n",
    "    vector = vector / np.linalg.norm(vector)  # Normalize the vector initially\n",
    "\n",
    "    for i in range(max_iterations):\n",
    "        new_vector = matrix @ vector - mu * vector\n",
    "        # Reject components along previously found eigenvectors\n",
    "        for prev_vec in excluded_space:\n",
    "            new_vector -= project_vector(new_vector, prev_vec)\n",
    "\n",
    "        eigenvalue = np.dot(new_vector, vector) / np.dot(vector, vector)\n",
    "        new_vector = new_vector / np.linalg.norm(new_vector)\n",
    "\n",
    "        if np.linalg.norm(new_vector - vector) < tolerance:\n",
    "            # Ensure excluded_space is a list before appending\n",
    "            if isinstance(excluded_space, np.ndarray):\n",
    "                excluded_space = excluded_space.tolist()  # Convert to list if it's a numpy array\n",
    "            excluded_space.append(new_vector)\n",
    "\n",
    "            return eigenvalue + mu, new_vector  # Add mu back to the eigenvalue\n",
    "        \n",
    "        # Update the vector for the next iteration\n",
    "        vector = new_vector\n",
    "\n",
    "    # If max iterations reached without convergence, return the results so far\n",
    "    if isinstance(excluded_space, np.ndarray):\n",
    "        excluded_space = excluded_space.tolist()  # Convert to list if it's a numpy array\n",
    "    excluded_space.append(new_vector)\n",
    "    \n",
    "    return eigenvalue + mu, vector\n"
   ]
  },
  {
   "cell_type": "code",
   "execution_count": 38,
   "metadata": {
    "colab": {
     "base_uri": "https://localhost:8080/",
     "height": 380
    },
    "id": "0Aiikdivq4BZ",
    "outputId": "9213fd10-211c-4298-f2f5-6a813c134b5c"
   },
   "outputs": [
    {
     "name": "stdout",
     "output_type": "stream",
     "text": [
      "(1.827244021346854e-16+0j) [ 1.85810420e-06+0.j -3.70108056e-06+0.j  5.51422544e-06+0.j ...\n",
      " -8.60162513e-06+0.j  5.76334650e-06+0.j -2.89051457e-06+0.j]\n"
     ]
    }
   ],
   "source": [
    "# Get the one with max(abs) eigen value\n",
    "e_val1, eig_vec1 = power_iteration(hamiltonian, max_iterations = 1000)\n",
    "eigenvector_list = [eig_vec1]\n",
    "eigenvalue_list = [e_val1]\n",
    "print(e_val1, eig_vec1)"
   ]
  },
  {
   "cell_type": "markdown",
   "metadata": {
    "id": "CRsWzH6fgcae"
   },
   "source": [
    "Yay, the code above should compute the eigenvector with largest (absolute) eigenvalue. Feel free to go ahead and visualize the eigenstate using the `plot_wavefunction_2dslice` function a few cells below. However, the eigenvalue is probably positive, and you will be disappointed by the plot. After all, the largest absolute eigenvalue need not be the ground state, it's a hydrogen atom in a _box_ after all. Positive energy states are expected.\n",
    "\n",
    "So, how get at the ground state? Well, we can manipulate the eigenvalues of a matrix by adding matrices that are _similar_ to it([remember the linear algebra defintion](https://en.wikipedia.org/wiki/Matrix_similarity)), and the identity matrix is similar to everything. Thus we shift our eigenvalues by operating on the matrix $(A-\\mu I)$ instead! If we choose $\\mu$ to be the positive maximum eigenvalue we found, then the one we will obtain from computing $(A-\\mu I)$ will the one which is farthest from the positive eigenvalue, the negative maximum eigenvalue, the ground state. Note that for our $A$, all eigenvalues are real since it's hermitian."
   ]
  },
  {
   "cell_type": "markdown",
   "metadata": {
    "id": "Mxep9MGps1aK"
   },
   "source": [
    "Go back and add the optional $\\mu$ input variable (named `mu`) to the function `power_iteration`. For optimization, we suggest not creating a new matrix $M = A - \\mu I$ but implementing it implicitly. Be sure to compensate for $\\mu$ in the output eigenvalue if you do end up editing the matrix."
   ]
  },
  {
   "cell_type": "code",
   "execution_count": 39,
   "metadata": {
    "colab": {
     "base_uri": "https://localhost:8080/"
    },
    "id": "SsnIkavVNLOj",
    "outputId": "51030fce-e49a-410a-c18d-2ce2c8345144"
   },
   "outputs": [
    {
     "name": "stdout",
     "output_type": "stream",
     "text": [
      "(-2.1093565074473856e-18+0j) [9.99918229e-11+0.j 1.99545080e-10+0.j 2.98217423e-10+0.j ...\n",
      " 2.97871791e-10+0.j 1.99311190e-10+0.j 9.98738490e-11+0.j]\n",
      "(1.827244021346854e-16+0j) [ 1.85810420e-06+0.j -3.70108056e-06+0.j  5.51422544e-06+0.j ...\n",
      " -8.60162513e-06+0.j  5.76334650e-06+0.j -2.89051457e-06+0.j]\n"
     ]
    }
   ],
   "source": [
    "# Get the other one and sort\n",
    "e_val2, eig_vec2 = power_iteration(hamiltonian, mu = e_val1, max_iterations = 1000)\n",
    "# Now technically we don't know which one was the maximum and which one was the minimum,\n",
    "# just that they are bounds of the eigen values. So let's sort them.\n",
    "min_e, max_e = (e_val1, e_val2) if e_val1.real < e_val2.real else (e_val2, e_val1)\n",
    "min_vec, max_vec = (eig_vec1, eig_vec2) if e_val1.real < e_val2.real else (eig_vec2, eig_vec1)\n",
    "# Technically the order doesn't matter here, but we are doing this for later convenience\n",
    "eigenvector_list = [max_vec, min_vec]\n",
    "eigenvalue_list = [max_e, min_e]\n",
    "\n",
    "print(min_e, min_vec)\n",
    "print(max_e, max_vec)"
   ]
  },
  {
   "cell_type": "markdown",
   "metadata": {
    "id": "PKE_MI7atrAy"
   },
   "source": [
    "After running the above code, you should obtain an eigenvalue that is smaller than the one who add before. It may still be positive, so to get the actual ground state value it is recommended that you run it for 1000 or 3000 iterations. Open Netflix if you do go for 3000.\n",
    "\n",
    "Try plotting it with `plot_wavefunction_2dslice`. You should see a singular dot on your screen, resembling the 1s wavefunction."
   ]
  },
  {
   "cell_type": "code",
   "execution_count": 40,
   "metadata": {
    "colab": {
     "base_uri": "https://localhost:8080/",
     "height": 807
    },
    "id": "mtFirjEpfGxM",
    "outputId": "eb0f6908-ef9f-4d51-b760-ac15e71d5813"
   },
   "outputs": [
    {
     "data": {
      "image/png": "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",
      "text/plain": [
       "<Figure size 1000x1000 with 2 Axes>"
      ]
     },
     "metadata": {},
     "output_type": "display_data"
    }
   ],
   "source": [
    "def plot_wavefunction_2dslice(eigenvector, slice_index = N//2):\n",
    "  # plot the wavefunction in 2D slices\n",
    "  plt.figure(figsize=(10,10))\n",
    "  plt.imshow(np.abs(eigenvector.reshape((N,N,N))[:,:,slice_index]), cmap='hot')\n",
    "  plt.colorbar()\n",
    "  plt.show()\n",
    "\n",
    "plot_wavefunction_2dslice(min_vec)"
   ]
  },
  {
   "cell_type": "markdown",
   "metadata": {
    "id": "DuK35NVyuael"
   },
   "source": [
    "Ok, so that's the ground state, but what about any of the other states? Well, back when we were considering $b^{(k)} = A^kb = \\lambda_1^k x_1 + \\lambda_2^k x_2 + \\cdots + \\lambda_n^k x_n$, if we were to just remove $x_1$ and any other eigenvectors we know, then the vector we would converge to would just be the one with the second largest eigenvalue, the first excited state.\n",
    "\n",
    "But how do just remove a vector? We use a fairly standard vector operation called *projection* (or rather it's cousin, *rejection*) that can convert a vector $v_1$ into two vectors $v_1 = p + n$, where $p \\parallel v_2$ and $n \\perp v_2$ for a given vector $v_2$. Projection is taking $p$ as the result Rejection is taking $n$. It's fairly elementary, so I'll allow you to [look it up yourself](https://en.wikipedia.org/wiki/Vector_projection).\n",
    "\n",
    "Since Hamiltonians are hermitian, the different eigenvectors are orthogonal to each other. So if we implement this rejection process at every step, then we remove the ground state (and any other states we have already found), and so we get the first excited state.\n",
    "\n",
    "> Technically we could just apply rejection once in the beginning, since eigenvectors evolve into themselves when applying the matrix, but since we don't have the true eigenvectors and only their approximations, applying it at each step is better.\n",
    "\n",
    "Also, when performing rejection using multiple orthogonal vectors, either you can do it in a single step ($b' = b - p_1 - p_2 - \\cdots$), or in multiple steps ($b_1 = b - p_1(b), b_2 = b_1 - p_2(b_1), \\cdots$). The multi-step approach is preferred as it is found to be numerically stable."
   ]
  },
  {
   "cell_type": "markdown",
   "metadata": {
    "id": "Rok-cFw8zDw2"
   },
   "source": [
    "Ok, so now that you have understood the process, add an optional input variable `excluded_space` to the function `power_iteration`. It will be a list of vectors, like the `eigenvector_list` we have maintained so far (here it is a normal python list instead of numpy list because of memory reasons, but either works). Perform rejection using all the vectors after each iteration."
   ]
  },
  {
   "cell_type": "code",
   "execution_count": 41,
   "metadata": {
    "id": "C_MFyacnTJKh"
   },
   "outputs": [],
   "source": [
    "for _ in range(4) :\n",
    "    eig_val, eig_vec = power_iteration(hamiltonian, mu = max_e, max_iterations = 1000, excluded_space=eigenvector_list)\n",
    "    eigenvalue_list.append(eig_val)\n",
    "    eigenvector_list = np.vstack((eigenvector_list, eig_vec))"
   ]
  },
  {
   "cell_type": "code",
   "execution_count": 42,
   "metadata": {
    "colab": {
     "base_uri": "https://localhost:8080/"
    },
    "id": "NkaZVZhzXBbZ",
    "outputId": "e8243b0d-bb52-45e5-86b1-ce5373a1d26f"
   },
   "outputs": [
    {
     "data": {
      "text/plain": [
       "[np.complex128(1.827244021346854e-16+0j),\n",
       " np.complex128(-2.1093565074473856e-18+0j),\n",
       " np.complex128(-5.035523720531801e-19+0j),\n",
       " np.complex128(-2.472494371607418e-19+0j),\n",
       " np.complex128(-9.551834083930533e-20+0j),\n",
       " np.complex128(-4.773032363797172e-19+0j)]"
      ]
     },
     "execution_count": 42,
     "metadata": {},
     "output_type": "execute_result"
    }
   ],
   "source": [
    "eigenvalue_list"
   ]
  },
  {
   "cell_type": "code",
   "execution_count": 43,
   "metadata": {},
   "outputs": [
    {
     "name": "stdout",
     "output_type": "stream",
     "text": [
      "(1.0000000000000009+0j)\n",
      "(1.9949319973733282e-16+0j)\n",
      "(2.7842311789427754e-16+0j)\n"
     ]
    }
   ],
   "source": [
    "print(np.dot(eigenvector_list[2], eigenvector_list[3]))\n",
    "print(np.dot(eigenvector_list[2], eigenvector_list[4]))\n",
    "print(np.dot(eigenvector_list[2], eigenvector_list[5]))"
   ]
  },
  {
   "cell_type": "code",
   "execution_count": 25,
   "metadata": {},
   "outputs": [],
   "source": []
  },
  {
   "cell_type": "markdown",
   "metadata": {
    "id": "rRnGHeUkzvpb"
   },
   "source": [
    "Good job! Now we simply plot and enjoy the fruit of our labor!"
   ]
  },
  {
   "cell_type": "code",
   "execution_count": 44,
   "metadata": {
    "colab": {
     "base_uri": "https://localhost:8080/",
     "height": 465
    },
    "id": "dClvJk0V6eFt",
    "outputId": "5f00b1e5-6494-4b31-f6ea-95af6231d016"
   },
   "outputs": [
    {
     "data": {
      "image/png": "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",
      "text/plain": [
       "<Figure size 640x480 with 1 Axes>"
      ]
     },
     "metadata": {},
     "output_type": "display_data"
    }
   ],
   "source": [
    "# plot the eigenvalues\n",
    "plt.plot([x.real for x in eigenvalue_list[1:]], 'o')\n",
    "plt.xlabel('Eigenvalue index')\n",
    "plt.ylabel('Eigenvalue')\n",
    "plt.show()"
   ]
  },
  {
   "cell_type": "markdown",
   "metadata": {
    "id": "uxgRHgf16eFu"
   },
   "source": [
    "As expected from ground state (1s) and first 4 excited states (1 from 2s and 3 from 2p)! Beautiful!"
   ]
  },
  {
   "cell_type": "code",
   "execution_count": 45,
   "metadata": {
    "colab": {
     "base_uri": "https://localhost:8080/"
    },
    "id": "5UXVvvde6eFu",
    "outputId": "60fbcbc1-0df3-4ad1-aa08-48ba90086668"
   },
   "outputs": [
    {
     "name": "stdout",
     "output_type": "stream",
     "text": [
      "Ground state energy (calculated):  -2.1093565074473856e-18 J\n",
      "Ground state energy (known):  -2.1789602222399996e-18 J\n"
     ]
    }
   ],
   "source": [
    "#the ground state energy is the first eigenvalue\n",
    "print('Ground state energy (calculated): ', min_e.real, 'J')\n",
    "\n",
    "#the true value of the ground state energy is -13.6 eV\n",
    "print('Ground state energy (known): ', -13.6*e, 'J')"
   ]
  },
  {
   "cell_type": "code",
   "execution_count": 46,
   "metadata": {
    "id": "JYCK13XE6eFu"
   },
   "outputs": [],
   "source": [
    "def plot_wavefunction_2dslice(eigenvector, slice_index = N//2):\n",
    "  # plot the wavefunction in 2D slices\n",
    "  plt.figure(figsize=(10,10))\n",
    "  plt.imshow(np.abs(eigenvector.reshape((N,N,N))[:,:,slice_index]), cmap='hot')\n",
    "  plt.colorbar()\n",
    "  plt.show()"
   ]
  },
  {
   "cell_type": "code",
   "execution_count": 47,
   "metadata": {
    "colab": {
     "base_uri": "https://localhost:8080/",
     "height": 807
    },
    "id": "Q3e4eGohhVxp",
    "outputId": "5936bf86-d4e0-4c68-cfe8-36c04d17d599"
   },
   "outputs": [
    {
     "data": {
      "image/png": "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",
      "text/plain": [
       "<Figure size 1000x1000 with 2 Axes>"
      ]
     },
     "metadata": {},
     "output_type": "display_data"
    }
   ],
   "source": [
    "plot_wavefunction_2dslice(eigenvector_list[2,:])"
   ]
  },
  {
   "cell_type": "markdown",
   "metadata": {
    "id": "FQJduWs20EEy"
   },
   "source": [
    "Now we plot all the 4 $n=2$ wave fucntions."
   ]
  },
  {
   "cell_type": "code",
   "execution_count": 48,
   "metadata": {
    "id": "K0cAseRZ6eFv"
   },
   "outputs": [],
   "source": [
    "def plot_all_probdensity_2dslice(eigenvectors, slice_index = N//2):\n",
    "  # plot the wavefunction in 2D slices\n",
    "  n = ceil(sqrt(len(eigenvectors)))\n",
    "  plt.figure(figsize=(10,10))\n",
    "  for i in range(len(eigenvectors)):\n",
    "    plt.subplot(n,n,i+1)\n",
    "    plt.imshow(np.abs(eigenvectors[i].reshape((N,N,N))[:,:,slice_index])**2, cmap='hot')\n",
    "  plt.show()"
   ]
  },
  {
   "cell_type": "code",
   "execution_count": 49,
   "metadata": {
    "id": "ZCP3REe66eFv"
   },
   "outputs": [
    {
     "data": {
      "image/png": "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",
      "text/plain": [
       "<Figure size 1000x1000 with 4 Axes>"
      ]
     },
     "metadata": {},
     "output_type": "display_data"
    }
   ],
   "source": [
    "plot_all_probdensity_2dslice(eigenvector_list[2:6], )"
   ]
  },
  {
   "cell_type": "markdown",
   "metadata": {
    "id": "oYEP2ljH6eFv"
   },
   "source": [
    "As you can see, the wavefunctions (their probability density really, which we have plotted here) are not in the neat order or in the neat axis oriented forms we see in textbooks. This is because our algorithm has no way discriminating between degenerate states in a particular eigenspace. Thus we end up with arbitrary linear combinations of 2s and 2p orbitals."
   ]
  },
  {
   "cell_type": "markdown",
   "metadata": {
    "id": "edl2MN7u1xmV"
   },
   "source": [
    "Of course, there are better algorithms like Arnoldi iteration (a variant of which is used by `scipy.sparse.linalg.eigs`) which don't discard information from previous iterations and try to diagonalize in a reduced space called Krylov subspaces $= \\operatorname{span}\\left\\{b, Ab, A^2b, \\cdots A^kb \\right\\}$, but these are right now beyond the scope. Of course, the improvements are immense; `scipy.sparse.linalg.eigs` gives us 30 eigenvectors in less time than we took for 6. You can try it out."
   ]
  },
  {
   "cell_type": "markdown",
   "metadata": {},
   "source": [
    "# THE END"
   ]
  }
 ],
 "metadata": {
  "colab": {
   "provenance": []
  },
  "kernelspec": {
   "display_name": "Python 3",
   "language": "python",
   "name": "python3"
  },
  "language_info": {
   "codemirror_mode": {
    "name": "ipython",
    "version": 3
   },
   "file_extension": ".py",
   "mimetype": "text/x-python",
   "name": "python",
   "nbconvert_exporter": "python",
   "pygments_lexer": "ipython3",
   "version": "3.12.8"
  }
 },
 "nbformat": 4,
 "nbformat_minor": 1
}
